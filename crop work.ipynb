{
 "cells": [
  {
   "cell_type": "code",
   "execution_count": 1,
   "metadata": {
    "collapsed": true
   },
   "outputs": [],
   "source": [
    "import numpy as np\n",
    "import cv2\n"
   ]
  },
  {
   "cell_type": "code",
   "execution_count": 2,
   "metadata": {
    "collapsed": true
   },
   "outputs": [],
   "source": [
    "kernel_dil=np.ones((20,20),np.uint8)\n",
    "kernel=cv2.getStructuringElement(cv2.MORPH_ELLIPSE,(3,3))\n",
    "fgbg=cv2.createBackgroundSubtractorKNN()\n",
    "vid=\"out_26_14.mkv\"\n",
    "cap=cv2.VideoCapture(vid)\n",
    "\n",
    "step=0"
   ]
  },
  {
   "cell_type": "code",
   "execution_count": 3,
   "metadata": {},
   "outputs": [
    {
     "ename": "KeyboardInterrupt",
     "evalue": "",
     "output_type": "error",
     "traceback": [
      "\u001b[1;31m---------------------------------------------------------------------------\u001b[0m",
      "\u001b[1;31mKeyboardInterrupt\u001b[0m                         Traceback (most recent call last)",
      "\u001b[1;32m<ipython-input-3-dde740dd9d8d>\u001b[0m in \u001b[0;36m<module>\u001b[1;34m()\u001b[0m\n\u001b[0;32m      5\u001b[0m     \u001b[0mcv2\u001b[0m\u001b[1;33m.\u001b[0m\u001b[0mimwrite\u001b[0m\u001b[1;33m(\u001b[0m\u001b[1;34m\"start.jpg\"\u001b[0m\u001b[1;33m,\u001b[0m\u001b[0mframe\u001b[0m\u001b[1;33m[\u001b[0m\u001b[1;36m23\u001b[0m\u001b[1;33m]\u001b[0m\u001b[1;33m)\u001b[0m\u001b[1;33m\u001b[0m\u001b[0m\n\u001b[0;32m      6\u001b[0m     \u001b[1;32mwhile\u001b[0m\u001b[1;33m(\u001b[0m\u001b[1;32mTrue\u001b[0m\u001b[1;33m)\u001b[0m\u001b[1;33m:\u001b[0m\u001b[1;33m\u001b[0m\u001b[0m\n\u001b[1;32m----> 7\u001b[1;33m         \u001b[0mfgmask\u001b[0m\u001b[1;33m=\u001b[0m\u001b[0mfgbg\u001b[0m\u001b[1;33m.\u001b[0m\u001b[0mapply\u001b[0m\u001b[1;33m(\u001b[0m\u001b[0mframe\u001b[0m\u001b[1;33m)\u001b[0m\u001b[1;33m\u001b[0m\u001b[0m\n\u001b[0m\u001b[0;32m      8\u001b[0m         \u001b[0mfgmask\u001b[0m\u001b[1;33m=\u001b[0m\u001b[0mcv2\u001b[0m\u001b[1;33m.\u001b[0m\u001b[0mmorphologyEx\u001b[0m\u001b[1;33m(\u001b[0m\u001b[0mfgmask\u001b[0m\u001b[1;33m,\u001b[0m\u001b[0mcv2\u001b[0m\u001b[1;33m.\u001b[0m\u001b[0mMORPH_OPEN\u001b[0m\u001b[1;33m,\u001b[0m\u001b[0mkernel\u001b[0m\u001b[1;33m)\u001b[0m\u001b[1;33m\u001b[0m\u001b[0m\n\u001b[0;32m      9\u001b[0m         \u001b[0mdilation\u001b[0m\u001b[1;33m=\u001b[0m\u001b[0mcv2\u001b[0m\u001b[1;33m.\u001b[0m\u001b[0mdilate\u001b[0m\u001b[1;33m(\u001b[0m\u001b[0mfgmask\u001b[0m\u001b[1;33m,\u001b[0m\u001b[0mkernel_dil\u001b[0m\u001b[1;33m,\u001b[0m\u001b[0miterations\u001b[0m\u001b[1;33m=\u001b[0m\u001b[1;36m1\u001b[0m\u001b[1;33m)\u001b[0m\u001b[1;33m\u001b[0m\u001b[0m\n",
      "\u001b[1;31mKeyboardInterrupt\u001b[0m: "
     ]
    }
   ],
   "source": [
    "while (True):\n",
    "    ret,frame=cap.read()\n",
    "    fshape=frame.shape\n",
    "    frame=frame[100:fshape[0]-100,:fshape[1]-100,:]\n",
    "    cv2.imwrite(\"start.jpg\",frame[23])\n",
    "    while(True):\n",
    "        fgmask=fgbg.apply(frame)\n",
    "        fgmask=cv2.morphologyEx(fgmask,cv2.MORPH_OPEN,kernel)\n",
    "        dilation=cv2.dilate(fgmask,kernel_dil,iterations=1)\n",
    "        (itr,contours,hierarchy)=cv2.findContours(dilation,cv2.RETR_TREE,cv2.CHAIN_APPROX_SIMPLE)\n",
    "        for pic,contour in enumerate(contours):\n",
    "            area=cv2.contourArea(contour)\n",
    "            if (area > 3600):\n",
    "                x,y,w,h=cv2.boundingRect(contour)\n",
    "                #x,y,w,h=cv2.boundingRect(contour)\n",
    "                img=cv2.rectangle(frame,(x,y),(x+w,y+h),(0,0,255),1)\n",
    "                roi_vehchile=frame[y:y+ h , x:x+ w]\n",
    "               \n",
    "                #roi_vehchile=cv2.resize(roi_vehchile,(300,300))\n",
    "               \n",
    "                step = step + 1\n",
    "                if step%30==0:\n",
    "                    cv2.imwrite(\"result/\"+str(step)+\".jpg\",roi_vehchile)\n",
    "                    cv2.imshow(\"bounding box\",roi_vehchile)\n",
    "        \n",
    "                    \n",
    "        #cv2.imshow(\"dilation\", dilation)\n",
    "        cv2.imshow(\"original\", frame)\n",
    "        if cv2.waitKey(25) & 0xFF==ord('q'):\n",
    "            break\n",
    "        else:\n",
    "            break\n",
    "\n",
    "\n",
    "\n",
    "        "
   ]
  },
  {
   "cell_type": "code",
   "execution_count": null,
   "metadata": {
    "collapsed": true
   },
   "outputs": [],
   "source": []
  }
 ],
 "metadata": {
  "kernelspec": {
   "display_name": "Python 3",
   "language": "python",
   "name": "python3"
  },
  "language_info": {
   "codemirror_mode": {
    "name": "ipython",
    "version": 3
   },
   "file_extension": ".py",
   "mimetype": "text/x-python",
   "name": "python",
   "nbconvert_exporter": "python",
   "pygments_lexer": "ipython3",
   "version": "3.6.4"
  }
 },
 "nbformat": 4,
 "nbformat_minor": 2
}
